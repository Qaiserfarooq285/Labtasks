{
  "nbformat": 4,
  "nbformat_minor": 0,
  "metadata": {
    "colab": {
      "provenance": [],
      "authorship_tag": "ABX9TyO2np5ExTFLpTm2c0VY5evr",
      "include_colab_link": true
    },
    "kernelspec": {
      "name": "python3",
      "display_name": "Python 3"
    },
    "language_info": {
      "name": "python"
    }
  },
  "cells": [
    {
      "cell_type": "markdown",
      "metadata": {
        "id": "view-in-github",
        "colab_type": "text"
      },
      "source": [
        "<a href=\"https://colab.research.google.com/github/Qaiserfarooq285/Labtasks/blob/main/Lab8_A.ipynb\" target=\"_parent\"><img src=\"https://colab.research.google.com/assets/colab-badge.svg\" alt=\"Open In Colab\"/></a>"
      ]
    },
    {
      "cell_type": "code",
      "execution_count": 7,
      "metadata": {
        "colab": {
          "base_uri": "https://localhost:8080/"
        },
        "id": "OI4z3uv_l9zs",
        "outputId": "621a0485-b9ea-4a33-c2dd-6eef43745ced"
      },
      "outputs": [
        {
          "output_type": "stream",
          "name": "stdout",
          "text": [
            "   PassengerId  Survived  Pclass  \\\n",
            "0            1         0       3   \n",
            "1            2         1       1   \n",
            "2            3         1       3   \n",
            "3            4         1       1   \n",
            "4            5         0       3   \n",
            "\n",
            "                                                Name     Sex   Age  SibSp  \\\n",
            "0                            Braund, Mr. Owen Harris    male  22.0      1   \n",
            "1  Cumings, Mrs. John Bradley (Florence Briggs Th...  female  38.0      1   \n",
            "2                             Heikkinen, Miss. Laina  female  26.0      0   \n",
            "3       Futrelle, Mrs. Jacques Heath (Lily May Peel)  female  35.0      1   \n",
            "4                           Allen, Mr. William Henry    male  35.0      0   \n",
            "\n",
            "   Parch            Ticket     Fare Cabin Embarked  \n",
            "0      0         A/5 21171   7.2500   NaN        S  \n",
            "1      0          PC 17599  71.2833   C85        C  \n",
            "2      0  STON/O2. 3101282   7.9250   NaN        S  \n",
            "3      0            113803  53.1000  C123        S  \n",
            "4      0            373450   8.0500   NaN        S  \n",
            "   PassengerId  Survived  Pclass  \\\n",
            "0            1         0       3   \n",
            "1            2         1       1   \n",
            "2            3         1       3   \n",
            "3            4         1       1   \n",
            "4            5         0       3   \n",
            "\n",
            "                                                Name     Sex       Age  SibSp  \\\n",
            "0                            Braund, Mr. Owen Harris    male  0.271174      1   \n",
            "1  Cumings, Mrs. John Bradley (Florence Briggs Th...  female  0.472229      1   \n",
            "2                             Heikkinen, Miss. Laina  female  0.321438      0   \n",
            "3       Futrelle, Mrs. Jacques Heath (Lily May Peel)  female  0.434531      1   \n",
            "4                           Allen, Mr. William Henry    male  0.434531      0   \n",
            "\n",
            "   Parch            Ticket      Fare Cabin Embarked  \n",
            "0      0         A/5 21171  0.014151   NaN        S  \n",
            "1      0          PC 17599  0.139136   C85        C  \n",
            "2      0  STON/O2. 3101282  0.015469   NaN        S  \n",
            "3      0            113803  0.103644  C123        S  \n",
            "4      0            373450  0.015713   NaN        S  \n"
          ]
        }
      ],
      "source": [
        "import pandas as pd\n",
        "from sklearn.preprocessing import MinMaxScaler\n",
        "\n",
        "# Assuming Titanic dataset is loaded as a DataFrame named `titanic_df`\n",
        "# Load your Titanic dataset\n",
        "titanic_df = pd.read_csv('/content/titanic.csv')\n",
        "print(titanic_df.head())\n",
        "# Initialize the MinMaxScaler\n",
        "scaler = MinMaxScaler()\n",
        "\n",
        "# Select the columns to scale\n",
        "columns_to_scale = ['Age', 'Fare']\n",
        "\n",
        "# Apply the scaler to the selected columns\n",
        "titanic_df[columns_to_scale] = scaler.fit_transform(titanic_df[columns_to_scale])\n",
        "\n",
        "# Display the DataFrame with scaled values\n",
        "print(titanic_df.head())\n"
      ]
    }
  ]
}