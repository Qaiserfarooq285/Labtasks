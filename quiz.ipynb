{
  "nbformat": 4,
  "nbformat_minor": 0,
  "metadata": {
    "colab": {
      "provenance": [],
      "include_colab_link": true
    },
    "kernelspec": {
      "name": "python3",
      "display_name": "Python 3"
    },
    "language_info": {
      "name": "python"
    }
  },
  "cells": [
    {
      "cell_type": "markdown",
      "metadata": {
        "id": "view-in-github",
        "colab_type": "text"
      },
      "source": [
        "<a href=\"https://colab.research.google.com/github/Qaiserfarooq285/Labtasks/blob/main/quiz.ipynb\" target=\"_parent\"><img src=\"https://colab.research.google.com/assets/colab-badge.svg\" alt=\"Open In Colab\"/></a>"
      ]
    },
    {
      "cell_type": "markdown",
      "source": [
        "## **Quiz-2**"
      ],
      "metadata": {
        "id": "wKBOgALplcmv"
      }
    },
    {
      "cell_type": "markdown",
      "source": [
        "Perform following tasks on the provided Reviews Dataset.\n",
        "* Drop words if not alphabets.\n",
        "* Tokenize the sentence.\n",
        "* Perform lemitization.\n",
        "* Vectorize using bigram and trigram techniques.\n",
        "* Apply Random Forest algorithm with 150 trees.\n",
        "* Evaluate overall accuracy of the model and class-wise precision ."
      ],
      "metadata": {
        "id": "m5VxQWNuli1L"
      }
    },
    {
      "cell_type": "code",
      "source": [
        "import numpy as np\n",
        "import pandas as pd"
      ],
      "metadata": {
        "id": "TuFnz2Bn4rGq"
      },
      "execution_count": null,
      "outputs": []
    },
    {
      "cell_type": "code",
      "source": [
        "data = pd.read_csv('/content/reviews_dataset.csv')"
      ],
      "metadata": {
        "id": "4nO5cbUr4x7n"
      },
      "execution_count": null,
      "outputs": []
    },
    {
      "cell_type": "code",
      "source": [
        "data.columns"
      ],
      "metadata": {
        "colab": {
          "base_uri": "https://localhost:8080/"
        },
        "id": "5pBnhoKb44g7",
        "outputId": "45bb4109-56cd-4878-cb36-b6eef88b9785"
      },
      "execution_count": null,
      "outputs": [
        {
          "output_type": "execute_result",
          "data": {
            "text/plain": [
              "Index(['news', 'type'], dtype='object')"
            ]
          },
          "metadata": {},
          "execution_count": 35
        }
      ]
    },
    {
      "cell_type": "code",
      "source": [
        "data.head()"
      ],
      "metadata": {
        "colab": {
          "base_uri": "https://localhost:8080/",
          "height": 206
        },
        "id": "jdV16qsH7lXz",
        "outputId": "3064e037-dc68-4456-9803-747b1194ab75"
      },
      "execution_count": null,
      "outputs": [
        {
          "output_type": "execute_result",
          "data": {
            "text/plain": [
              "                                                news      type\n",
              "0  [[\"['China role Yukos China lend Russia help R...  business\n",
              "1  [[\"['Oil rebound weather effect Oil price reco...  business\n",
              "2  [[\"['Indonesia debt Indonesia longer need debt...  business\n",
              "3  [[\"['payoff former Shell boss Shell pay chief ...  business\n",
              "4  [[\"['US bank SEC settlement Five Bank America ...  business"
            ],
            "text/html": [
              "\n",
              "  <div id=\"df-497ee780-127f-474e-871b-e31a413d5960\" class=\"colab-df-container\">\n",
              "    <div>\n",
              "<style scoped>\n",
              "    .dataframe tbody tr th:only-of-type {\n",
              "        vertical-align: middle;\n",
              "    }\n",
              "\n",
              "    .dataframe tbody tr th {\n",
              "        vertical-align: top;\n",
              "    }\n",
              "\n",
              "    .dataframe thead th {\n",
              "        text-align: right;\n",
              "    }\n",
              "</style>\n",
              "<table border=\"1\" class=\"dataframe\">\n",
              "  <thead>\n",
              "    <tr style=\"text-align: right;\">\n",
              "      <th></th>\n",
              "      <th>news</th>\n",
              "      <th>type</th>\n",
              "    </tr>\n",
              "  </thead>\n",
              "  <tbody>\n",
              "    <tr>\n",
              "      <th>0</th>\n",
              "      <td>[[\"['China role Yukos China lend Russia help R...</td>\n",
              "      <td>business</td>\n",
              "    </tr>\n",
              "    <tr>\n",
              "      <th>1</th>\n",
              "      <td>[[\"['Oil rebound weather effect Oil price reco...</td>\n",
              "      <td>business</td>\n",
              "    </tr>\n",
              "    <tr>\n",
              "      <th>2</th>\n",
              "      <td>[[\"['Indonesia debt Indonesia longer need debt...</td>\n",
              "      <td>business</td>\n",
              "    </tr>\n",
              "    <tr>\n",
              "      <th>3</th>\n",
              "      <td>[[\"['payoff former Shell boss Shell pay chief ...</td>\n",
              "      <td>business</td>\n",
              "    </tr>\n",
              "    <tr>\n",
              "      <th>4</th>\n",
              "      <td>[[\"['US bank SEC settlement Five Bank America ...</td>\n",
              "      <td>business</td>\n",
              "    </tr>\n",
              "  </tbody>\n",
              "</table>\n",
              "</div>\n",
              "    <div class=\"colab-df-buttons\">\n",
              "\n",
              "  <div class=\"colab-df-container\">\n",
              "    <button class=\"colab-df-convert\" onclick=\"convertToInteractive('df-497ee780-127f-474e-871b-e31a413d5960')\"\n",
              "            title=\"Convert this dataframe to an interactive table.\"\n",
              "            style=\"display:none;\">\n",
              "\n",
              "  <svg xmlns=\"http://www.w3.org/2000/svg\" height=\"24px\" viewBox=\"0 -960 960 960\">\n",
              "    <path d=\"M120-120v-720h720v720H120Zm60-500h600v-160H180v160Zm220 220h160v-160H400v160Zm0 220h160v-160H400v160ZM180-400h160v-160H180v160Zm440 0h160v-160H620v160ZM180-180h160v-160H180v160Zm440 0h160v-160H620v160Z\"/>\n",
              "  </svg>\n",
              "    </button>\n",
              "\n",
              "  <style>\n",
              "    .colab-df-container {\n",
              "      display:flex;\n",
              "      gap: 12px;\n",
              "    }\n",
              "\n",
              "    .colab-df-convert {\n",
              "      background-color: #E8F0FE;\n",
              "      border: none;\n",
              "      border-radius: 50%;\n",
              "      cursor: pointer;\n",
              "      display: none;\n",
              "      fill: #1967D2;\n",
              "      height: 32px;\n",
              "      padding: 0 0 0 0;\n",
              "      width: 32px;\n",
              "    }\n",
              "\n",
              "    .colab-df-convert:hover {\n",
              "      background-color: #E2EBFA;\n",
              "      box-shadow: 0px 1px 2px rgba(60, 64, 67, 0.3), 0px 1px 3px 1px rgba(60, 64, 67, 0.15);\n",
              "      fill: #174EA6;\n",
              "    }\n",
              "\n",
              "    .colab-df-buttons div {\n",
              "      margin-bottom: 4px;\n",
              "    }\n",
              "\n",
              "    [theme=dark] .colab-df-convert {\n",
              "      background-color: #3B4455;\n",
              "      fill: #D2E3FC;\n",
              "    }\n",
              "\n",
              "    [theme=dark] .colab-df-convert:hover {\n",
              "      background-color: #434B5C;\n",
              "      box-shadow: 0px 1px 3px 1px rgba(0, 0, 0, 0.15);\n",
              "      filter: drop-shadow(0px 1px 2px rgba(0, 0, 0, 0.3));\n",
              "      fill: #FFFFFF;\n",
              "    }\n",
              "  </style>\n",
              "\n",
              "    <script>\n",
              "      const buttonEl =\n",
              "        document.querySelector('#df-497ee780-127f-474e-871b-e31a413d5960 button.colab-df-convert');\n",
              "      buttonEl.style.display =\n",
              "        google.colab.kernel.accessAllowed ? 'block' : 'none';\n",
              "\n",
              "      async function convertToInteractive(key) {\n",
              "        const element = document.querySelector('#df-497ee780-127f-474e-871b-e31a413d5960');\n",
              "        const dataTable =\n",
              "          await google.colab.kernel.invokeFunction('convertToInteractive',\n",
              "                                                    [key], {});\n",
              "        if (!dataTable) return;\n",
              "\n",
              "        const docLinkHtml = 'Like what you see? Visit the ' +\n",
              "          '<a target=\"_blank\" href=https://colab.research.google.com/notebooks/data_table.ipynb>data table notebook</a>'\n",
              "          + ' to learn more about interactive tables.';\n",
              "        element.innerHTML = '';\n",
              "        dataTable['output_type'] = 'display_data';\n",
              "        await google.colab.output.renderOutput(dataTable, element);\n",
              "        const docLink = document.createElement('div');\n",
              "        docLink.innerHTML = docLinkHtml;\n",
              "        element.appendChild(docLink);\n",
              "      }\n",
              "    </script>\n",
              "  </div>\n",
              "\n",
              "\n",
              "<div id=\"df-74de8b6e-e832-4dc1-924a-8ea0be71ffe5\">\n",
              "  <button class=\"colab-df-quickchart\" onclick=\"quickchart('df-74de8b6e-e832-4dc1-924a-8ea0be71ffe5')\"\n",
              "            title=\"Suggest charts\"\n",
              "            style=\"display:none;\">\n",
              "\n",
              "<svg xmlns=\"http://www.w3.org/2000/svg\" height=\"24px\"viewBox=\"0 0 24 24\"\n",
              "     width=\"24px\">\n",
              "    <g>\n",
              "        <path d=\"M19 3H5c-1.1 0-2 .9-2 2v14c0 1.1.9 2 2 2h14c1.1 0 2-.9 2-2V5c0-1.1-.9-2-2-2zM9 17H7v-7h2v7zm4 0h-2V7h2v10zm4 0h-2v-4h2v4z\"/>\n",
              "    </g>\n",
              "</svg>\n",
              "  </button>\n",
              "\n",
              "<style>\n",
              "  .colab-df-quickchart {\n",
              "      --bg-color: #E8F0FE;\n",
              "      --fill-color: #1967D2;\n",
              "      --hover-bg-color: #E2EBFA;\n",
              "      --hover-fill-color: #174EA6;\n",
              "      --disabled-fill-color: #AAA;\n",
              "      --disabled-bg-color: #DDD;\n",
              "  }\n",
              "\n",
              "  [theme=dark] .colab-df-quickchart {\n",
              "      --bg-color: #3B4455;\n",
              "      --fill-color: #D2E3FC;\n",
              "      --hover-bg-color: #434B5C;\n",
              "      --hover-fill-color: #FFFFFF;\n",
              "      --disabled-bg-color: #3B4455;\n",
              "      --disabled-fill-color: #666;\n",
              "  }\n",
              "\n",
              "  .colab-df-quickchart {\n",
              "    background-color: var(--bg-color);\n",
              "    border: none;\n",
              "    border-radius: 50%;\n",
              "    cursor: pointer;\n",
              "    display: none;\n",
              "    fill: var(--fill-color);\n",
              "    height: 32px;\n",
              "    padding: 0;\n",
              "    width: 32px;\n",
              "  }\n",
              "\n",
              "  .colab-df-quickchart:hover {\n",
              "    background-color: var(--hover-bg-color);\n",
              "    box-shadow: 0 1px 2px rgba(60, 64, 67, 0.3), 0 1px 3px 1px rgba(60, 64, 67, 0.15);\n",
              "    fill: var(--button-hover-fill-color);\n",
              "  }\n",
              "\n",
              "  .colab-df-quickchart-complete:disabled,\n",
              "  .colab-df-quickchart-complete:disabled:hover {\n",
              "    background-color: var(--disabled-bg-color);\n",
              "    fill: var(--disabled-fill-color);\n",
              "    box-shadow: none;\n",
              "  }\n",
              "\n",
              "  .colab-df-spinner {\n",
              "    border: 2px solid var(--fill-color);\n",
              "    border-color: transparent;\n",
              "    border-bottom-color: var(--fill-color);\n",
              "    animation:\n",
              "      spin 1s steps(1) infinite;\n",
              "  }\n",
              "\n",
              "  @keyframes spin {\n",
              "    0% {\n",
              "      border-color: transparent;\n",
              "      border-bottom-color: var(--fill-color);\n",
              "      border-left-color: var(--fill-color);\n",
              "    }\n",
              "    20% {\n",
              "      border-color: transparent;\n",
              "      border-left-color: var(--fill-color);\n",
              "      border-top-color: var(--fill-color);\n",
              "    }\n",
              "    30% {\n",
              "      border-color: transparent;\n",
              "      border-left-color: var(--fill-color);\n",
              "      border-top-color: var(--fill-color);\n",
              "      border-right-color: var(--fill-color);\n",
              "    }\n",
              "    40% {\n",
              "      border-color: transparent;\n",
              "      border-right-color: var(--fill-color);\n",
              "      border-top-color: var(--fill-color);\n",
              "    }\n",
              "    60% {\n",
              "      border-color: transparent;\n",
              "      border-right-color: var(--fill-color);\n",
              "    }\n",
              "    80% {\n",
              "      border-color: transparent;\n",
              "      border-right-color: var(--fill-color);\n",
              "      border-bottom-color: var(--fill-color);\n",
              "    }\n",
              "    90% {\n",
              "      border-color: transparent;\n",
              "      border-bottom-color: var(--fill-color);\n",
              "    }\n",
              "  }\n",
              "</style>\n",
              "\n",
              "  <script>\n",
              "    async function quickchart(key) {\n",
              "      const quickchartButtonEl =\n",
              "        document.querySelector('#' + key + ' button');\n",
              "      quickchartButtonEl.disabled = true;  // To prevent multiple clicks.\n",
              "      quickchartButtonEl.classList.add('colab-df-spinner');\n",
              "      try {\n",
              "        const charts = await google.colab.kernel.invokeFunction(\n",
              "            'suggestCharts', [key], {});\n",
              "      } catch (error) {\n",
              "        console.error('Error during call to suggestCharts:', error);\n",
              "      }\n",
              "      quickchartButtonEl.classList.remove('colab-df-spinner');\n",
              "      quickchartButtonEl.classList.add('colab-df-quickchart-complete');\n",
              "    }\n",
              "    (() => {\n",
              "      let quickchartButtonEl =\n",
              "        document.querySelector('#df-74de8b6e-e832-4dc1-924a-8ea0be71ffe5 button');\n",
              "      quickchartButtonEl.style.display =\n",
              "        google.colab.kernel.accessAllowed ? 'block' : 'none';\n",
              "    })();\n",
              "  </script>\n",
              "</div>\n",
              "\n",
              "    </div>\n",
              "  </div>\n"
            ],
            "application/vnd.google.colaboratory.intrinsic+json": {
              "type": "dataframe",
              "variable_name": "data",
              "summary": "{\n  \"name\": \"data\",\n  \"rows\": 2225,\n  \"fields\": [\n    {\n      \"column\": \"news\",\n      \"properties\": {\n        \"dtype\": \"object\",\n        \"semantic_type\": \"\",\n        \"description\": \"\"\n      }\n    },\n    {\n      \"column\": \"type\",\n      \"properties\": {\n        \"dtype\": \"category\",\n        \"num_unique_values\": 5,\n        \"samples\": [\n          \"entertainment\",\n          \"tech\",\n          \"politics\"\n        ],\n        \"semantic_type\": \"\",\n        \"description\": \"\"\n      }\n    }\n  ]\n}"
            }
          },
          "metadata": {},
          "execution_count": 54
        }
      ]
    },
    {
      "cell_type": "markdown",
      "source": [
        "# removing non numerical"
      ],
      "metadata": {
        "id": "EEWn8RDc5QNC"
      }
    },
    {
      "cell_type": "code",
      "source": [
        "import pandas as pd\n",
        "import re\n",
        "\n",
        "def drop_non_alphabets(text):\n",
        "\n",
        "  words = text.split()\n",
        "  filtered_words = [word for word in words if word.isalpha()]\n",
        "  return ' '.join(filtered_words)\n",
        "\n",
        "# Assuming your DataFrame is called 'data' and the column is called 'news'\n",
        "data['news'] = data['news'].apply(drop_non_alphabets)"
      ],
      "metadata": {
        "id": "pWQhZueG5NJB"
      },
      "execution_count": null,
      "outputs": []
    },
    {
      "cell_type": "markdown",
      "source": [
        "# removing stopwords"
      ],
      "metadata": {
        "id": "vSIPrbBp71WE"
      }
    },
    {
      "cell_type": "code",
      "source": [
        "import nltk\n",
        "nltk.download('stopwords')\n",
        "from nltk.corpus import stopwords\n",
        "\n",
        "def remove_stopwords(sentences):\n",
        "  stop_words = set(stopwords.words('english'))\n",
        "  filtered_sentences = []\n",
        "  for sentence in sentences:\n",
        "    words = sentence.split()\n",
        "    filtered_words = [word for word in words if word.lower() not in stop_words]\n",
        "    filtered_sentence = \" \".join(filtered_words)\n",
        "    filtered_sentences.append(filtered_sentence)\n",
        "  return filtered_sentences\n",
        "\n",
        "data['news'] = data['news'].apply(remove_stopwords)"
      ],
      "metadata": {
        "colab": {
          "base_uri": "https://localhost:8080/"
        },
        "id": "559TouH_7ZW0",
        "outputId": "9c1de2b0-9d62-419e-ce3b-8d3f443af335"
      },
      "execution_count": null,
      "outputs": [
        {
          "output_type": "stream",
          "name": "stderr",
          "text": [
            "[nltk_data] Downloading package stopwords to /root/nltk_data...\n",
            "[nltk_data]   Unzipping corpora/stopwords.zip.\n"
          ]
        }
      ]
    },
    {
      "cell_type": "markdown",
      "source": [
        "# tokenization"
      ],
      "metadata": {
        "id": "iWYn94nV5cO8"
      }
    },
    {
      "cell_type": "code",
      "source": [
        "import nltk\n",
        "nltk.download('punkt')\n",
        "from nltk.tokenize import sent_tokenize\n",
        "\n",
        "# Ensure 'news' column contains strings before applying sent_tokenize\n",
        "data['news'] = data['news'].astype(str).apply(sent_tokenize)\n",
        "\n",
        "# Access sentences in a particular cell\n",
        "sentences_in_row_1 = data['news'][1]\n",
        "for sentence in sentences_in_row_1:\n",
        "    print(sentence)"
      ],
      "metadata": {
        "colab": {
          "base_uri": "https://localhost:8080/"
        },
        "id": "3PRTgsYY6Guk",
        "outputId": "87aefae8-60aa-400c-a492-e016b4fe2ccf"
      },
      "execution_count": null,
      "outputs": [
        {
          "output_type": "stream",
          "name": "stdout",
          "text": [
            "[\"['Oil rebound weather effect Oil price recover Asian trade fall New York milder winter weather across winter temperatures stay relatively high northern barrel light crude end Monday However crude price rebound rise barrel February trade Brent crude suspend public price fell Far milder temperatures expect continue northern part US next days analysts say price oil may fall even decline heel say ABN AMRO analyst John winter Eventually get another cold Despite fall barrel record highs reach late price crude oil remain almost higher Prices rise last week militant attack capital Saudi briefly renew fear supply chain might break lead crude market panic fear essentially since say Deborah senior economist energy SG Securities in']\"]\n"
          ]
        },
        {
          "output_type": "stream",
          "name": "stderr",
          "text": [
            "[nltk_data] Downloading package punkt to /root/nltk_data...\n",
            "[nltk_data]   Package punkt is already up-to-date!\n"
          ]
        }
      ]
    },
    {
      "cell_type": "markdown",
      "source": [
        "# lemmitiazation"
      ],
      "metadata": {
        "id": "_uCT7Ts2786Y"
      }
    },
    {
      "cell_type": "code",
      "source": [
        "import nltk\n",
        "nltk.download('wordnet')\n",
        "from nltk.stem import WordNetLemmatizer\n",
        "lemmitizer = WordNetLemmatizer()\n",
        "def lemmitize_words(text):\n",
        "    return \" \".join([lemmitizer.lemmatize(word,pos='v') for word in text.split()])"
      ],
      "metadata": {
        "colab": {
          "base_uri": "https://localhost:8080/"
        },
        "id": "dTw6FMmo6xER",
        "outputId": "5b71dc78-3395-4c08-cdcf-402dac3fb419"
      },
      "execution_count": null,
      "outputs": [
        {
          "output_type": "stream",
          "name": "stderr",
          "text": [
            "[nltk_data] Downloading package wordnet to /root/nltk_data...\n",
            "[nltk_data]   Package wordnet is already up-to-date!\n"
          ]
        }
      ]
    },
    {
      "cell_type": "code",
      "source": [
        "def lemmatize_sentences(sentences):\n",
        "    lemmatized_sentences = []\n",
        "    for sentence in sentences:\n",
        "        lemmatized_sentence = \" \".join([lemmitizer.lemmatize(word, pos='v') for word in sentence.split()])\n",
        "        lemmatized_sentences.append(lemmatized_sentence)\n",
        "    return lemmatized_sentences\n",
        "\n",
        "data['news'] = data['news'].apply(lemmatize_sentences)"
      ],
      "metadata": {
        "id": "cEC-sjrf6ykU"
      },
      "execution_count": null,
      "outputs": []
    },
    {
      "cell_type": "code",
      "source": [
        "first_row_sentences = data['news'][0]\n",
        "print(first_row_sentences[0])"
      ],
      "metadata": {
        "colab": {
          "base_uri": "https://localhost:8080/"
        },
        "id": "meaRlrDo7LxF",
        "outputId": "971502a0-a3c4-4860-d77c-a89a92ec4cfb"
      },
      "execution_count": null,
      "outputs": [
        {
          "output_type": "stream",
          "name": "stdout",
          "text": [
            "[\"['China role Yukos China lend Russia help Russian government renationalise key Yuganskneftegas unit oil group Kremlin say Tuesday Russian state bank VEB lend Rosneft help buy Yugansk turn come Chinese revelation come Russian government say Rosneft sign oil supply deal deal see Rosneft receive credit According Russian newspaper credit would use pay loan Rosneft receive finance purchase Reports say CNPC offer Yugansk return provide finance company opt oil supply deal Analysts say one factor might influence Chinese decision possibility litigation former CNPC become Rosneft VEB decline two company agree say Russian oil official Sergei nothing unusual five six announcements help explain relatively unknown able finance surprise purchase Yugansk sell auction last year help Yukos pay part bill unpaid tax embattle Russian oil giant previously file bankruptcy protection US court attempt prevent force sale main production Yugansk sell little know shell company turn buy Yukos claim downfall punishment political ambition founder Mikhail richest Mr Khodorkovsky trial fraud tax deal Rosneft CNPC see part desire secure oil supply fee boom thirst products crude copper steel help push global commodity price record Chinese try get leverage say Dmitry analyst brokerage understand property right Russia important interest guarantee price oil fix could profitable Mr Lukashov Rosneft desperate need good deal them']\"]\n"
          ]
        }
      ]
    },
    {
      "cell_type": "code",
      "source": [
        "from sklearn.preprocessing import LabelEncoder\n",
        "\n",
        "#X = df.drop('sentiment', axis=1)\n",
        "X = data['news']\n",
        "Y = data['type']\n",
        "\n",
        "print(X)\n",
        "print(Y)\n",
        "\n",
        "encoder = LabelEncoder()\n",
        "Y = encoder.fit_transform(Y)\n",
        "\n",
        "print(Y)"
      ],
      "metadata": {
        "colab": {
          "base_uri": "https://localhost:8080/"
        },
        "id": "8qEx3-0N9m3b",
        "outputId": "78f81427-bb81-429b-8d5b-e309f2cb58cc"
      },
      "execution_count": null,
      "outputs": [
        {
          "output_type": "stream",
          "name": "stdout",
          "text": [
            "0       China had role in Yukos split-up\\n \\n China le...\n",
            "1       Oil rebounds from weather effect\\n \\n Oil pric...\n",
            "2       Indonesia 'declines debt freeze'\\n \\n Indonesi...\n",
            "3       $1m payoff for former Shell boss\\n \\n Shell is...\n",
            "4       US bank in $515m SEC settlement\\n \\n Five Bank...\n",
            "                              ...                        \n",
            "2220    Microsoft launches its own search\\n \\n Microso...\n",
            "2221    Warnings about junk mail deluge\\n \\n The amoun...\n",
            "2222    Microsoft gets the blogging bug\\n \\n Software ...\n",
            "2223    Gamers snap up new Sony PSP\\n \\n Gamers have b...\n",
            "2224    Apple laptop is 'greatest gadget'\\n \\n The App...\n",
            "Name: news, Length: 2225, dtype: object\n",
            "0       business\n",
            "1       business\n",
            "2       business\n",
            "3       business\n",
            "4       business\n",
            "          ...   \n",
            "2220        tech\n",
            "2221        tech\n",
            "2222        tech\n",
            "2223        tech\n",
            "2224        tech\n",
            "Name: type, Length: 2225, dtype: object\n",
            "[0 0 0 ... 4 4 4]\n"
          ]
        }
      ]
    },
    {
      "cell_type": "markdown",
      "source": [
        "# Bigram"
      ],
      "metadata": {
        "id": "Up7IE_229-ML"
      }
    },
    {
      "cell_type": "code",
      "source": [
        "\n",
        "from sklearn.feature_extraction.text import CountVectorizer\n",
        "from sklearn.ensemble import RandomForestClassifier\n",
        "from sklearn.model_selection import train_test_split\n",
        "from sklearn.metrics import accuracy_score, confusion_matrix\n",
        "\n",
        "# Assuming you have X and Y defined\n",
        "\n",
        "# Split data into training and testing sets\n",
        "X_train, X_test, y_train, y_test = train_test_split(X, Y, test_size=0.25, random_state=42)\n",
        "\n",
        "# Create a CountVectorizer with only bigrams\n",
        "cv = CountVectorizer(ngram_range=(2, 2))  # Changed to (2, 2) for bigrams only\n",
        "\n",
        "# Fit and transform the training data\n",
        "X_train_n_gram = cv.fit_transform(X_train)\n",
        "\n",
        "# Transform the testing data\n",
        "X_test_n_gram = cv.transform(X_test)\n",
        "\n",
        "# Initialize a RandomForestClassifier\n",
        "rf = RandomForestClassifier()\n",
        "\n",
        "# Fit the model on the training data\n",
        "rf.fit(X_train_n_gram, y_train)\n",
        "\n",
        "# Make predictions on the test data\n",
        "y_pred = rf.predict(X_test_n_gram)\n",
        "\n",
        "print(accuracy_score(y_test, y_pred))\n",
        "print(confusion_matrix(y_test, y_pred))"
      ],
      "metadata": {
        "colab": {
          "base_uri": "https://localhost:8080/"
        },
        "id": "aZUVRbDqAj2Z",
        "outputId": "81966cd4-a447-4569-f736-71397b09baba"
      },
      "execution_count": null,
      "outputs": [
        {
          "output_type": "stream",
          "name": "stdout",
          "text": [
            "0.8797127468581688\n",
            "[[134   1   4   2   1]\n",
            " [ 14  69   0  11   0]\n",
            " [  3   0  83   8   1]\n",
            " [  0   0   0 121   1]\n",
            " [ 14   2   0   5  83]]\n"
          ]
        }
      ]
    },
    {
      "cell_type": "markdown",
      "source": [
        "# Trigram"
      ],
      "metadata": {
        "id": "J1-bm9ONAzjL"
      }
    },
    {
      "cell_type": "code",
      "source": [
        "from sklearn.feature_extraction.text import CountVectorizer\n",
        "from sklearn.ensemble import RandomForestClassifier\n",
        "from sklearn.model_selection import train_test_split\n",
        "from sklearn.metrics import accuracy_score, confusion_matrix\n",
        "\n",
        "# Assuming you have X and Y defined\n",
        "\n",
        "# Split data into training and testing sets\n",
        "X_train, X_test, y_train, y_test = train_test_split(X, Y, test_size=0.25, random_state=42)\n",
        "\n",
        "# Create a CountVectorizer with only trigrams\n",
        "cv = CountVectorizer(ngram_range=(3, 3))  # Changed to (3, 3) for trigrams only\n",
        "\n",
        "# Fit and transform the training data\n",
        "X_train_n_gram = cv.fit_transform(X_train)\n",
        "\n",
        "# Transform the testing data\n",
        "X_test_n_gram = cv.transform(X_test)\n",
        "\n",
        "# Initialize a RandomForestClassifier\n",
        "rf = RandomForestClassifier()\n",
        "\n",
        "# Fit the model on the training data\n",
        "rf.fit(X_train_n_gram, y_train)\n",
        "\n",
        "# Make predictions on the test data\n",
        "y_pred = rf.predict(X_test_n_gram)\n",
        "\n",
        "print(accuracy_score(y_test, y_pred))\n",
        "print(confusion_matrix(y_test, y_pred))"
      ],
      "metadata": {
        "colab": {
          "base_uri": "https://localhost:8080/"
        },
        "id": "mmvKhpuRAxhY",
        "outputId": "8d51df07-60c1-4297-a591-f54759c9e3fc"
      },
      "execution_count": null,
      "outputs": [
        {
          "output_type": "stream",
          "name": "stdout",
          "text": [
            "0.7791741472172352\n",
            "[[117   1   3  18   3]\n",
            " [  9  59   0  25   1]\n",
            " [  6   1  72  16   0]\n",
            " [  0   0   0 122   0]\n",
            " [ 18   4   2  16  64]]\n"
          ]
        }
      ]
    },
    {
      "cell_type": "markdown",
      "source": [
        "# 150 tree randomforest"
      ],
      "metadata": {
        "id": "iRMdsdKpA3nH"
      }
    },
    {
      "cell_type": "code",
      "source": [
        "from sklearn.ensemble import RandomForestClassifier\n",
        "\n",
        "# Initialize a RandomForestClassifier with 150 trees\n",
        "rf = RandomForestClassifier(n_estimators=150)\n",
        "\n",
        "# Fit the model on the training data\n",
        "rf.fit(X_train_n_gram, y_train)\n",
        "\n",
        "# Make predictions on the test data\n",
        "y_pred = rf.predict(X_test_n_gram)\n",
        "# Calculate accuracy\n",
        "accuracy = accuracy_score(y_test, y_pred)\n",
        "\n",
        "# Print accuracy\n",
        "print(\"Accuracy:\", accuracy)"
      ],
      "metadata": {
        "colab": {
          "base_uri": "https://localhost:8080/"
        },
        "id": "756ac33TAK5I",
        "outputId": "ec23ef1f-43b2-4feb-d1ee-fc4177d5f3ad"
      },
      "execution_count": null,
      "outputs": [
        {
          "output_type": "stream",
          "name": "stdout",
          "text": [
            "Accuracy: 0.7935368043087971\n"
          ]
        }
      ]
    },
    {
      "cell_type": "markdown",
      "source": [
        "# **Evaluating the overall accuarcy**"
      ],
      "metadata": {
        "id": "7_iduzckA70M"
      }
    },
    {
      "cell_type": "markdown",
      "source": [
        "We have 87 accuracy on bigram and 77 on trigram and 79 on random forest"
      ],
      "metadata": {
        "id": "uuRVRNLLBMzM"
      }
    }
  ]
}